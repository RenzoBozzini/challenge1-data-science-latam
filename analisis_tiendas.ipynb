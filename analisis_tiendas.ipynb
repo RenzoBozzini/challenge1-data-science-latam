{
  "nbformat": 4,
  "nbformat_minor": 0,
  "metadata": {
    "colab": {
      "provenance": []
    },
    "kernelspec": {
      "name": "python3",
      "display_name": "Python 3"
    },
    "language_info": {
      "name": "python"
    }
  },
  "cells": [
    {
      "cell_type": "markdown",
      "source": [
        "### Importación de datos\n",
        "\n"
      ],
      "metadata": {
        "id": "RhEdWd9YUR6H"
      }
    },
    {
      "cell_type": "code",
      "execution_count": null,
      "metadata": {
        "colab": {
          "base_uri": "https://localhost:8080/",
          "height": 379
        },
        "id": "T3EvaeQ_INIL",
        "outputId": "b9bbc62c-8d48-4205-c831-a14b43bf0735"
      },
      "outputs": [
        {
          "output_type": "execute_result",
          "data": {
            "text/plain": [
              "            Producto Categoría del Producto    Precio  Costo de envío  \\\n",
              "0  Asistente virtual           Electrónicos  164300.0          6900.0   \n",
              "1    Mesa de comedor                Muebles  192300.0          8400.0   \n",
              "2      Juego de mesa               Juguetes  209600.0         15900.0   \n",
              "3         Microondas      Electrodomésticos  757500.0         41000.0   \n",
              "4   Silla de oficina                Muebles  335200.0         20200.0   \n",
              "\n",
              "  Fecha de Compra         Vendedor Lugar de Compra  Calificación  \\\n",
              "0      16/01/2021      Pedro Gomez          Bogotá             4   \n",
              "1      18/05/2022  Beatriz Morales        Medellín             1   \n",
              "2      15/03/2021   Juan Fernandez       Cartagena             1   \n",
              "3      03/05/2022   Juan Fernandez            Cali             4   \n",
              "4      07/11/2020    Maria Alfonso        Medellín             5   \n",
              "\n",
              "       Método de pago  Cantidad de cuotas       lat       lon  \n",
              "0  Tarjeta de crédito                   8   4.60971 -74.08175  \n",
              "1  Tarjeta de crédito                   4   6.25184 -75.56359  \n",
              "2  Tarjeta de crédito                   1  10.39972 -75.51444  \n",
              "3               Nequi                   1   3.43722 -76.52250  \n",
              "4               Nequi                   1   6.25184 -75.56359  "
            ],
            "text/html": [
              "\n",
              "  <div id=\"df-c94e2ea2-52f1-4f04-948f-985ccaf2845e\" class=\"colab-df-container\">\n",
              "    <div>\n",
              "<style scoped>\n",
              "    .dataframe tbody tr th:only-of-type {\n",
              "        vertical-align: middle;\n",
              "    }\n",
              "\n",
              "    .dataframe tbody tr th {\n",
              "        vertical-align: top;\n",
              "    }\n",
              "\n",
              "    .dataframe thead th {\n",
              "        text-align: right;\n",
              "    }\n",
              "</style>\n",
              "<table border=\"1\" class=\"dataframe\">\n",
              "  <thead>\n",
              "    <tr style=\"text-align: right;\">\n",
              "      <th></th>\n",
              "      <th>Producto</th>\n",
              "      <th>Categoría del Producto</th>\n",
              "      <th>Precio</th>\n",
              "      <th>Costo de envío</th>\n",
              "      <th>Fecha de Compra</th>\n",
              "      <th>Vendedor</th>\n",
              "      <th>Lugar de Compra</th>\n",
              "      <th>Calificación</th>\n",
              "      <th>Método de pago</th>\n",
              "      <th>Cantidad de cuotas</th>\n",
              "      <th>lat</th>\n",
              "      <th>lon</th>\n",
              "    </tr>\n",
              "  </thead>\n",
              "  <tbody>\n",
              "    <tr>\n",
              "      <th>0</th>\n",
              "      <td>Asistente virtual</td>\n",
              "      <td>Electrónicos</td>\n",
              "      <td>164300.0</td>\n",
              "      <td>6900.0</td>\n",
              "      <td>16/01/2021</td>\n",
              "      <td>Pedro Gomez</td>\n",
              "      <td>Bogotá</td>\n",
              "      <td>4</td>\n",
              "      <td>Tarjeta de crédito</td>\n",
              "      <td>8</td>\n",
              "      <td>4.60971</td>\n",
              "      <td>-74.08175</td>\n",
              "    </tr>\n",
              "    <tr>\n",
              "      <th>1</th>\n",
              "      <td>Mesa de comedor</td>\n",
              "      <td>Muebles</td>\n",
              "      <td>192300.0</td>\n",
              "      <td>8400.0</td>\n",
              "      <td>18/05/2022</td>\n",
              "      <td>Beatriz Morales</td>\n",
              "      <td>Medellín</td>\n",
              "      <td>1</td>\n",
              "      <td>Tarjeta de crédito</td>\n",
              "      <td>4</td>\n",
              "      <td>6.25184</td>\n",
              "      <td>-75.56359</td>\n",
              "    </tr>\n",
              "    <tr>\n",
              "      <th>2</th>\n",
              "      <td>Juego de mesa</td>\n",
              "      <td>Juguetes</td>\n",
              "      <td>209600.0</td>\n",
              "      <td>15900.0</td>\n",
              "      <td>15/03/2021</td>\n",
              "      <td>Juan Fernandez</td>\n",
              "      <td>Cartagena</td>\n",
              "      <td>1</td>\n",
              "      <td>Tarjeta de crédito</td>\n",
              "      <td>1</td>\n",
              "      <td>10.39972</td>\n",
              "      <td>-75.51444</td>\n",
              "    </tr>\n",
              "    <tr>\n",
              "      <th>3</th>\n",
              "      <td>Microondas</td>\n",
              "      <td>Electrodomésticos</td>\n",
              "      <td>757500.0</td>\n",
              "      <td>41000.0</td>\n",
              "      <td>03/05/2022</td>\n",
              "      <td>Juan Fernandez</td>\n",
              "      <td>Cali</td>\n",
              "      <td>4</td>\n",
              "      <td>Nequi</td>\n",
              "      <td>1</td>\n",
              "      <td>3.43722</td>\n",
              "      <td>-76.52250</td>\n",
              "    </tr>\n",
              "    <tr>\n",
              "      <th>4</th>\n",
              "      <td>Silla de oficina</td>\n",
              "      <td>Muebles</td>\n",
              "      <td>335200.0</td>\n",
              "      <td>20200.0</td>\n",
              "      <td>07/11/2020</td>\n",
              "      <td>Maria Alfonso</td>\n",
              "      <td>Medellín</td>\n",
              "      <td>5</td>\n",
              "      <td>Nequi</td>\n",
              "      <td>1</td>\n",
              "      <td>6.25184</td>\n",
              "      <td>-75.56359</td>\n",
              "    </tr>\n",
              "  </tbody>\n",
              "</table>\n",
              "</div>\n",
              "    <div class=\"colab-df-buttons\">\n",
              "\n",
              "  <div class=\"colab-df-container\">\n",
              "    <button class=\"colab-df-convert\" onclick=\"convertToInteractive('df-c94e2ea2-52f1-4f04-948f-985ccaf2845e')\"\n",
              "            title=\"Convert this dataframe to an interactive table.\"\n",
              "            style=\"display:none;\">\n",
              "\n",
              "  <svg xmlns=\"http://www.w3.org/2000/svg\" height=\"24px\" viewBox=\"0 -960 960 960\">\n",
              "    <path d=\"M120-120v-720h720v720H120Zm60-500h600v-160H180v160Zm220 220h160v-160H400v160Zm0 220h160v-160H400v160ZM180-400h160v-160H180v160Zm440 0h160v-160H620v160ZM180-180h160v-160H180v160Zm440 0h160v-160H620v160Z\"/>\n",
              "  </svg>\n",
              "    </button>\n",
              "\n",
              "  <style>\n",
              "    .colab-df-container {\n",
              "      display:flex;\n",
              "      gap: 12px;\n",
              "    }\n",
              "\n",
              "    .colab-df-convert {\n",
              "      background-color: #E8F0FE;\n",
              "      border: none;\n",
              "      border-radius: 50%;\n",
              "      cursor: pointer;\n",
              "      display: none;\n",
              "      fill: #1967D2;\n",
              "      height: 32px;\n",
              "      padding: 0 0 0 0;\n",
              "      width: 32px;\n",
              "    }\n",
              "\n",
              "    .colab-df-convert:hover {\n",
              "      background-color: #E2EBFA;\n",
              "      box-shadow: 0px 1px 2px rgba(60, 64, 67, 0.3), 0px 1px 3px 1px rgba(60, 64, 67, 0.15);\n",
              "      fill: #174EA6;\n",
              "    }\n",
              "\n",
              "    .colab-df-buttons div {\n",
              "      margin-bottom: 4px;\n",
              "    }\n",
              "\n",
              "    [theme=dark] .colab-df-convert {\n",
              "      background-color: #3B4455;\n",
              "      fill: #D2E3FC;\n",
              "    }\n",
              "\n",
              "    [theme=dark] .colab-df-convert:hover {\n",
              "      background-color: #434B5C;\n",
              "      box-shadow: 0px 1px 3px 1px rgba(0, 0, 0, 0.15);\n",
              "      filter: drop-shadow(0px 1px 2px rgba(0, 0, 0, 0.3));\n",
              "      fill: #FFFFFF;\n",
              "    }\n",
              "  </style>\n",
              "\n",
              "    <script>\n",
              "      const buttonEl =\n",
              "        document.querySelector('#df-c94e2ea2-52f1-4f04-948f-985ccaf2845e button.colab-df-convert');\n",
              "      buttonEl.style.display =\n",
              "        google.colab.kernel.accessAllowed ? 'block' : 'none';\n",
              "\n",
              "      async function convertToInteractive(key) {\n",
              "        const element = document.querySelector('#df-c94e2ea2-52f1-4f04-948f-985ccaf2845e');\n",
              "        const dataTable =\n",
              "          await google.colab.kernel.invokeFunction('convertToInteractive',\n",
              "                                                    [key], {});\n",
              "        if (!dataTable) return;\n",
              "\n",
              "        const docLinkHtml = 'Like what you see? Visit the ' +\n",
              "          '<a target=\"_blank\" href=https://colab.research.google.com/notebooks/data_table.ipynb>data table notebook</a>'\n",
              "          + ' to learn more about interactive tables.';\n",
              "        element.innerHTML = '';\n",
              "        dataTable['output_type'] = 'display_data';\n",
              "        await google.colab.output.renderOutput(dataTable, element);\n",
              "        const docLink = document.createElement('div');\n",
              "        docLink.innerHTML = docLinkHtml;\n",
              "        element.appendChild(docLink);\n",
              "      }\n",
              "    </script>\n",
              "  </div>\n",
              "\n",
              "\n",
              "    <div id=\"df-2d476c7f-0340-448e-9e3b-d9c5badc32f1\">\n",
              "      <button class=\"colab-df-quickchart\" onclick=\"quickchart('df-2d476c7f-0340-448e-9e3b-d9c5badc32f1')\"\n",
              "                title=\"Suggest charts\"\n",
              "                style=\"display:none;\">\n",
              "\n",
              "<svg xmlns=\"http://www.w3.org/2000/svg\" height=\"24px\"viewBox=\"0 0 24 24\"\n",
              "     width=\"24px\">\n",
              "    <g>\n",
              "        <path d=\"M19 3H5c-1.1 0-2 .9-2 2v14c0 1.1.9 2 2 2h14c1.1 0 2-.9 2-2V5c0-1.1-.9-2-2-2zM9 17H7v-7h2v7zm4 0h-2V7h2v10zm4 0h-2v-4h2v4z\"/>\n",
              "    </g>\n",
              "</svg>\n",
              "      </button>\n",
              "\n",
              "<style>\n",
              "  .colab-df-quickchart {\n",
              "      --bg-color: #E8F0FE;\n",
              "      --fill-color: #1967D2;\n",
              "      --hover-bg-color: #E2EBFA;\n",
              "      --hover-fill-color: #174EA6;\n",
              "      --disabled-fill-color: #AAA;\n",
              "      --disabled-bg-color: #DDD;\n",
              "  }\n",
              "\n",
              "  [theme=dark] .colab-df-quickchart {\n",
              "      --bg-color: #3B4455;\n",
              "      --fill-color: #D2E3FC;\n",
              "      --hover-bg-color: #434B5C;\n",
              "      --hover-fill-color: #FFFFFF;\n",
              "      --disabled-bg-color: #3B4455;\n",
              "      --disabled-fill-color: #666;\n",
              "  }\n",
              "\n",
              "  .colab-df-quickchart {\n",
              "    background-color: var(--bg-color);\n",
              "    border: none;\n",
              "    border-radius: 50%;\n",
              "    cursor: pointer;\n",
              "    display: none;\n",
              "    fill: var(--fill-color);\n",
              "    height: 32px;\n",
              "    padding: 0;\n",
              "    width: 32px;\n",
              "  }\n",
              "\n",
              "  .colab-df-quickchart:hover {\n",
              "    background-color: var(--hover-bg-color);\n",
              "    box-shadow: 0 1px 2px rgba(60, 64, 67, 0.3), 0 1px 3px 1px rgba(60, 64, 67, 0.15);\n",
              "    fill: var(--button-hover-fill-color);\n",
              "  }\n",
              "\n",
              "  .colab-df-quickchart-complete:disabled,\n",
              "  .colab-df-quickchart-complete:disabled:hover {\n",
              "    background-color: var(--disabled-bg-color);\n",
              "    fill: var(--disabled-fill-color);\n",
              "    box-shadow: none;\n",
              "  }\n",
              "\n",
              "  .colab-df-spinner {\n",
              "    border: 2px solid var(--fill-color);\n",
              "    border-color: transparent;\n",
              "    border-bottom-color: var(--fill-color);\n",
              "    animation:\n",
              "      spin 1s steps(1) infinite;\n",
              "  }\n",
              "\n",
              "  @keyframes spin {\n",
              "    0% {\n",
              "      border-color: transparent;\n",
              "      border-bottom-color: var(--fill-color);\n",
              "      border-left-color: var(--fill-color);\n",
              "    }\n",
              "    20% {\n",
              "      border-color: transparent;\n",
              "      border-left-color: var(--fill-color);\n",
              "      border-top-color: var(--fill-color);\n",
              "    }\n",
              "    30% {\n",
              "      border-color: transparent;\n",
              "      border-left-color: var(--fill-color);\n",
              "      border-top-color: var(--fill-color);\n",
              "      border-right-color: var(--fill-color);\n",
              "    }\n",
              "    40% {\n",
              "      border-color: transparent;\n",
              "      border-right-color: var(--fill-color);\n",
              "      border-top-color: var(--fill-color);\n",
              "    }\n",
              "    60% {\n",
              "      border-color: transparent;\n",
              "      border-right-color: var(--fill-color);\n",
              "    }\n",
              "    80% {\n",
              "      border-color: transparent;\n",
              "      border-right-color: var(--fill-color);\n",
              "      border-bottom-color: var(--fill-color);\n",
              "    }\n",
              "    90% {\n",
              "      border-color: transparent;\n",
              "      border-bottom-color: var(--fill-color);\n",
              "    }\n",
              "  }\n",
              "</style>\n",
              "\n",
              "      <script>\n",
              "        async function quickchart(key) {\n",
              "          const quickchartButtonEl =\n",
              "            document.querySelector('#' + key + ' button');\n",
              "          quickchartButtonEl.disabled = true;  // To prevent multiple clicks.\n",
              "          quickchartButtonEl.classList.add('colab-df-spinner');\n",
              "          try {\n",
              "            const charts = await google.colab.kernel.invokeFunction(\n",
              "                'suggestCharts', [key], {});\n",
              "          } catch (error) {\n",
              "            console.error('Error during call to suggestCharts:', error);\n",
              "          }\n",
              "          quickchartButtonEl.classList.remove('colab-df-spinner');\n",
              "          quickchartButtonEl.classList.add('colab-df-quickchart-complete');\n",
              "        }\n",
              "        (() => {\n",
              "          let quickchartButtonEl =\n",
              "            document.querySelector('#df-2d476c7f-0340-448e-9e3b-d9c5badc32f1 button');\n",
              "          quickchartButtonEl.style.display =\n",
              "            google.colab.kernel.accessAllowed ? 'block' : 'none';\n",
              "        })();\n",
              "      </script>\n",
              "    </div>\n",
              "\n",
              "    </div>\n",
              "  </div>\n"
            ],
            "application/vnd.google.colaboratory.intrinsic+json": {
              "type": "dataframe",
              "variable_name": "tienda",
              "summary": "{\n  \"name\": \"tienda\",\n  \"rows\": 2359,\n  \"fields\": [\n    {\n      \"column\": \"Producto\",\n      \"properties\": {\n        \"dtype\": \"category\",\n        \"num_unique_values\": 51,\n        \"samples\": [\n          \"Guitarra ac\\u00fastica\",\n          \"Bal\\u00f3n de baloncesto\",\n          \"Smartwatch\"\n        ],\n        \"semantic_type\": \"\",\n        \"description\": \"\"\n      }\n    },\n    {\n      \"column\": \"Categor\\u00eda del Producto\",\n      \"properties\": {\n        \"dtype\": \"category\",\n        \"num_unique_values\": 8,\n        \"samples\": [\n          \"Muebles\",\n          \"Deportes y diversi\\u00f3n\",\n          \"Electr\\u00f3nicos\"\n        ],\n        \"semantic_type\": \"\",\n        \"description\": \"\"\n      }\n    },\n    {\n      \"column\": \"Precio\",\n      \"properties\": {\n        \"dtype\": \"number\",\n        \"std\": 614686.7653873172,\n        \"min\": 7600.0,\n        \"max\": 2977000.0,\n        \"num_unique_values\": 1937,\n        \"samples\": [\n          2499400.0,\n          14800.0,\n          80500.0\n        ],\n        \"semantic_type\": \"\",\n        \"description\": \"\"\n      }\n    },\n    {\n      \"column\": \"Costo de env\\u00edo\",\n      \"properties\": {\n        \"dtype\": \"number\",\n        \"std\": 32860.0017825605,\n        \"min\": 0.0,\n        \"max\": 160800.0,\n        \"num_unique_values\": 753,\n        \"samples\": [\n          117800.0,\n          54700.0,\n          45600.0\n        ],\n        \"semantic_type\": \"\",\n        \"description\": \"\"\n      }\n    },\n    {\n      \"column\": \"Fecha de Compra\",\n      \"properties\": {\n        \"dtype\": \"object\",\n        \"num_unique_values\": 1018,\n        \"samples\": [\n          \"15/09/2022\",\n          \"03/06/2020\",\n          \"06/11/2021\"\n        ],\n        \"semantic_type\": \"\",\n        \"description\": \"\"\n      }\n    },\n    {\n      \"column\": \"Vendedor\",\n      \"properties\": {\n        \"dtype\": \"category\",\n        \"num_unique_values\": 14,\n        \"samples\": [\n          \"Juliana Costa\",\n          \"Mariana Herrera\",\n          \"Pedro Gomez\"\n        ],\n        \"semantic_type\": \"\",\n        \"description\": \"\"\n      }\n    },\n    {\n      \"column\": \"Lugar de Compra\",\n      \"properties\": {\n        \"dtype\": \"category\",\n        \"num_unique_values\": 19,\n        \"samples\": [\n          \"Bogot\\u00e1\",\n          \"Pereira\",\n          \"Neiva\"\n        ],\n        \"semantic_type\": \"\",\n        \"description\": \"\"\n      }\n    },\n    {\n      \"column\": \"Calificaci\\u00f3n\",\n      \"properties\": {\n        \"dtype\": \"number\",\n        \"std\": 1,\n        \"min\": 1,\n        \"max\": 5,\n        \"num_unique_values\": 5,\n        \"samples\": [\n          1,\n          2,\n          5\n        ],\n        \"semantic_type\": \"\",\n        \"description\": \"\"\n      }\n    },\n    {\n      \"column\": \"M\\u00e9todo de pago\",\n      \"properties\": {\n        \"dtype\": \"category\",\n        \"num_unique_values\": 4,\n        \"samples\": [\n          \"Nequi\",\n          \"Tarjeta de d\\u00e9bito\",\n          \"Tarjeta de cr\\u00e9dito\"\n        ],\n        \"semantic_type\": \"\",\n        \"description\": \"\"\n      }\n    },\n    {\n      \"column\": \"Cantidad de cuotas\",\n      \"properties\": {\n        \"dtype\": \"number\",\n        \"std\": 2,\n        \"min\": 1,\n        \"max\": 24,\n        \"num_unique_values\": 15,\n        \"samples\": [\n          7,\n          14,\n          8\n        ],\n        \"semantic_type\": \"\",\n        \"description\": \"\"\n      }\n    },\n    {\n      \"column\": \"lat\",\n      \"properties\": {\n        \"dtype\": \"number\",\n        \"std\": 2.2874452492678627,\n        \"min\": -4.21528,\n        \"max\": 11.54444,\n        \"num_unique_values\": 19,\n        \"samples\": [\n          4.60971,\n          4.81333,\n          2.9273\n        ],\n        \"semantic_type\": \"\",\n        \"description\": \"\"\n      }\n    },\n    {\n      \"column\": \"lon\",\n      \"properties\": {\n        \"dtype\": \"number\",\n        \"std\": 1.2178272727088486,\n        \"min\": -77.28111,\n        \"max\": -67.9239,\n        \"num_unique_values\": 19,\n        \"samples\": [\n          -74.08175,\n          -75.69611,\n          -75.28189\n        ],\n        \"semantic_type\": \"\",\n        \"description\": \"\"\n      }\n    }\n  ]\n}"
            }
          },
          "metadata": {},
          "execution_count": 9
        }
      ],
      "source": [
        "import pandas as pd\n",
        "\n",
        "url = \"https://raw.githubusercontent.com/alura-es-cursos/challenge1-data-science-latam/refs/heads/main/base-de-datos-challenge1-latam/tienda_1%20.csv\"\n",
        "url2 = \"https://raw.githubusercontent.com/alura-es-cursos/challenge1-data-science-latam/refs/heads/main/base-de-datos-challenge1-latam/tienda_2.csv\"\n",
        "url3 = \"https://raw.githubusercontent.com/alura-es-cursos/challenge1-data-science-latam/refs/heads/main/base-de-datos-challenge1-latam/tienda_3.csv\"\n",
        "url4 = \"https://raw.githubusercontent.com/alura-es-cursos/challenge1-data-science-latam/refs/heads/main/base-de-datos-challenge1-latam/tienda_4.csv\"\n",
        "\n",
        "tienda = pd.read_csv(url)\n",
        "tienda2 = pd.read_csv(url2)\n",
        "tienda3 = pd.read_csv(url3)\n",
        "tienda4 = pd.read_csv(url4)\n",
        "\n",
        "tienda.head()"
      ]
    },
    {
      "cell_type": "markdown",
      "source": [
        "#1. Análisis de facturación\n",
        "\n"
      ],
      "metadata": {
        "id": "X62IW3KFUIYm"
      }
    },
    {
      "cell_type": "code",
      "source": [
        "facturacion_tienda = tienda[\"Precio\"].sum()\n",
        "facturacion_tienda2 = tienda2[\"Precio\"].sum()\n",
        "facturacion_tienda3 = tienda3[\"Precio\"].sum()\n",
        "facturacion_tienda4 = tienda4[\"Precio\"].sum()\n"
      ],
      "metadata": {
        "id": "xykobSftV64I"
      },
      "execution_count": null,
      "outputs": []
    },
    {
      "cell_type": "code",
      "source": [
        "facturacion = [facturacion_tienda, facturacion_tienda2, facturacion_tienda3, facturacion_tienda4]\n",
        "print('La facturación de la tienda 1 es: $%.2f, \\n de la tienda 2 es: %.2f, \\n de la tienda 3 es: %.2f y \\n Tienda 4 es: %.2f' %(facturacion_tienda, facturacion_tienda2,facturacion_tienda3,facturacion_tienda4))"
      ],
      "metadata": {
        "id": "KDyr8E71V3m-",
        "colab": {
          "base_uri": "https://localhost:8080/"
        },
        "outputId": "195d965e-199d-4858-d124-cd0a0c00800d"
      },
      "execution_count": null,
      "outputs": [
        {
          "output_type": "stream",
          "name": "stdout",
          "text": [
            "La facturación de la tienda 1 es: $1150880400.00, \n",
            " de la tienda 2 es: 1116343500.00, \n",
            " de la tienda 3 es: 1098019600.00 y \n",
            " Tienda 4 es: 1038375700.00\n"
          ]
        }
      ]
    },
    {
      "cell_type": "code",
      "source": [
        "cantidad_productos = [tienda[\"Precio\"].count(), tienda2[\"Precio\"].count(), tienda3[\"Precio\"].count(), tienda4[\"Precio\"].count()]\n",
        "cantidad_productos"
      ],
      "metadata": {
        "colab": {
          "base_uri": "https://localhost:8080/"
        },
        "id": "HiQ2dui-OIrM",
        "outputId": "834d280b-d54d-4f4a-f4e7-c60abdb966e4"
      },
      "execution_count": null,
      "outputs": [
        {
          "output_type": "execute_result",
          "data": {
            "text/plain": [
              "[np.int64(2359), np.int64(2359), np.int64(2359), np.int64(2358)]"
            ]
          },
          "metadata": {},
          "execution_count": 12
        }
      ]
    },
    {
      "cell_type": "code",
      "source": [
        "resta = facturacion[0] - facturacion[3]\n",
        "print(f'La diferencia de facturación entre la tienda 1 la tienda 2 es de: {resta}')"
      ],
      "metadata": {
        "colab": {
          "base_uri": "https://localhost:8080/"
        },
        "id": "281-nRP9QRSM",
        "outputId": "78c8337b-3487-49b9-d298-edee9d4b0f2b"
      },
      "execution_count": null,
      "outputs": [
        {
          "output_type": "stream",
          "name": "stdout",
          "text": [
            "La diferencia de facturación entre la tienda 1 la tienda 2 es de: 112504700.0\n"
          ]
        }
      ]
    },
    {
      "cell_type": "markdown",
      "source": [
        "La tienda 1 es la que más factura y la 4 la que menos con una diferencia entre la que mas factura Vs. con la que menos de $112.504.700"
      ],
      "metadata": {
        "id": "Z1BSpq9fPdnQ"
      }
    },
    {
      "cell_type": "markdown",
      "source": [
        "# 2. Ventas por categoría"
      ],
      "metadata": {
        "id": "2V_vcAPzWZmR"
      }
    },
    {
      "cell_type": "markdown",
      "source": [
        "TIENDA 1:"
      ],
      "metadata": {
        "id": "MLsYwy0_Biaz"
      }
    },
    {
      "cell_type": "code",
      "source": [
        "ventas_por_categoria_T1 = tienda.groupby('Categoría del Producto')['Precio'].sum().reset_index()\n",
        "# Ordenar de mayor a menor por la columna 'Precio'\n",
        "ventas_por_categoria_T1 = ventas_por_categoria_T1.sort_values(by='Precio', ascending=False)\n",
        "# Mostrar el resultado\n",
        "print(ventas_por_categoria_T1)"
      ],
      "metadata": {
        "colab": {
          "base_uri": "https://localhost:8080/"
        },
        "id": "XmD4p64eYuEQ",
        "outputId": "3f3b3999-d978-452f-d1bb-62ac44dddbf1"
      },
      "execution_count": null,
      "outputs": [
        {
          "output_type": "stream",
          "name": "stdout",
          "text": [
            "    Categoría del Producto       Precio\n",
            "3             Electrónicos  429493500.0\n",
            "2        Electrodomésticos  363685200.0\n",
            "7                  Muebles  187633700.0\n",
            "4   Instrumentos musicales   91299000.0\n",
            "1     Deportes y diversión   39290000.0\n",
            "5                 Juguetes   17995700.0\n",
            "0  Artículos para el hogar   12698400.0\n",
            "6                   Libros    8784900.0\n"
          ]
        }
      ]
    },
    {
      "cell_type": "markdown",
      "source": [
        "TIENDA 2:"
      ],
      "metadata": {
        "id": "UypFrX3PBmeA"
      }
    },
    {
      "cell_type": "code",
      "source": [
        "ventas_por_categoria_T2 = tienda2.groupby('Categoría del Producto')['Precio'].sum().reset_index()\n",
        "ventas_por_categoria_T2 = ventas_por_categoria_T2.sort_values(by='Precio', ascending=False)\n",
        "print(ventas_por_categoria_T2)"
      ],
      "metadata": {
        "colab": {
          "base_uri": "https://localhost:8080/"
        },
        "outputId": "dd03598d-406e-47d0-fe45-42d6acbb37c3",
        "id": "bj0c4V3wB18u"
      },
      "execution_count": null,
      "outputs": [
        {
          "output_type": "stream",
          "name": "stdout",
          "text": [
            "    Categoría del Producto       Precio\n",
            "3             Electrónicos  410831100.0\n",
            "2        Electrodomésticos  348567800.0\n",
            "7                  Muebles  176426300.0\n",
            "4   Instrumentos musicales  104990300.0\n",
            "1     Deportes y diversión   34744500.0\n",
            "5                 Juguetes   15945400.0\n",
            "0  Artículos para el hogar   14746900.0\n",
            "6                   Libros   10091200.0\n"
          ]
        }
      ]
    },
    {
      "cell_type": "markdown",
      "source": [
        "TIENDA 3:"
      ],
      "metadata": {
        "id": "6JM7WYEaB9mM"
      }
    },
    {
      "cell_type": "code",
      "source": [
        "ventas_por_categoria_T3 = tienda3.groupby('Categoría del Producto')['Precio'].sum().reset_index()\n",
        "ventas_por_categoria_T3 = ventas_por_categoria_T3.sort_values(by='Precio', ascending=False)\n",
        "print(ventas_por_categoria_T3)"
      ],
      "metadata": {
        "colab": {
          "base_uri": "https://localhost:8080/"
        },
        "outputId": "fb76b77f-898c-4797-d3e5-72bd6d18b1f2",
        "id": "0cSZOSMTB1WN"
      },
      "execution_count": null,
      "outputs": [
        {
          "output_type": "stream",
          "name": "stdout",
          "text": [
            "    Categoría del Producto       Precio\n",
            "3             Electrónicos  410775800.0\n",
            "2        Electrodomésticos  329237900.0\n",
            "7                  Muebles  201072100.0\n",
            "4   Instrumentos musicales   77380900.0\n",
            "1     Deportes y diversión   35593100.0\n",
            "5                 Juguetes   19401100.0\n",
            "0  Artículos para el hogar   15060000.0\n",
            "6                   Libros    9498700.0\n"
          ]
        }
      ]
    },
    {
      "cell_type": "markdown",
      "source": [
        "TIENDA 4:"
      ],
      "metadata": {
        "id": "3-07F2QrCLIG"
      }
    },
    {
      "cell_type": "code",
      "source": [
        "ventas_por_categoria_T4 = tienda4.groupby('Categoría del Producto')['Precio'].sum().reset_index()\n",
        "ventas_por_categoria_T4 = ventas_por_categoria_T4.sort_values(by='Precio', ascending=False)\n",
        "print(ventas_por_categoria_T4)"
      ],
      "metadata": {
        "colab": {
          "base_uri": "https://localhost:8080/"
        },
        "outputId": "9387d9a4-601b-4307-8707-53d3149bb2c0",
        "id": "VdHM9Ww4Bz_a"
      },
      "execution_count": null,
      "outputs": [
        {
          "output_type": "stream",
          "name": "stdout",
          "text": [
            "    Categoría del Producto       Precio\n",
            "3             Electrónicos  409476100.0\n",
            "2        Electrodomésticos  283260200.0\n",
            "7                  Muebles  192528900.0\n",
            "4   Instrumentos musicales   75102400.0\n",
            "1     Deportes y diversión   33350100.0\n",
            "5                 Juguetes   20262200.0\n",
            "0  Artículos para el hogar   15074500.0\n",
            "6                   Libros    9321300.0\n"
          ]
        }
      ]
    },
    {
      "cell_type": "markdown",
      "source": [
        "# 3. Calificación promedio de la tienda\n"
      ],
      "metadata": {
        "id": "Rq6tU_xSY3jk"
      }
    },
    {
      "cell_type": "code",
      "source": [
        "promedio_calificacion1 = tienda['Calificación'].mean()\n",
        "promedio_calificacion2 = tienda2['Calificación'].mean()\n",
        "promedio_calificacion3 = tienda3['Calificación'].mean()\n",
        "promedio_calificacion4 = tienda4['Calificación'].mean()\n",
        "print(f'Calificación promedio tienda 1: {promedio_calificacion1:.2f}')\n",
        "print(f'Calificación promedio tienda 2: {promedio_calificacion2:.2f}')\n",
        "print(f'Calificación promedio tienda 3: {promedio_calificacion3:.2f}')\n",
        "print(f'Calificación promedio tienda 4: {promedio_calificacion4:.2f}')"
      ],
      "metadata": {
        "id": "bh3jjjJwY5MU",
        "colab": {
          "base_uri": "https://localhost:8080/"
        },
        "outputId": "7f3cb6e4-e25a-4dc9-964b-05a76ee0c03f"
      },
      "execution_count": null,
      "outputs": [
        {
          "output_type": "stream",
          "name": "stdout",
          "text": [
            "Calificación promedio tienda 1: 3.98\n",
            "Calificación promedio tienda 2: 4.04\n",
            "Calificación promedio tienda 3: 4.05\n",
            "Calificación promedio tienda 4: 4.00\n"
          ]
        }
      ]
    },
    {
      "cell_type": "markdown",
      "source": [
        "# 4. Productos más y menos vendidos"
      ],
      "metadata": {
        "id": "DmNp1KPBZCm-"
      }
    },
    {
      "cell_type": "markdown",
      "source": [
        "TIENDA 1:"
      ],
      "metadata": {
        "id": "mwQxiOayNWcT"
      }
    },
    {
      "cell_type": "code",
      "source": [
        "ventas_por_producto1 = tienda.groupby('Producto')['Precio'].sum().reset_index()\n",
        "ventas_por_producto1.columns = ['Nombre del Producto', 'Ingreso Total']\n",
        "ventas_por_producto1 = ventas_por_producto1.sort_values('Ingreso Total', ascending=False)\n",
        "\n",
        "print(ventas_por_producto1)"
      ],
      "metadata": {
        "id": "qoyjqijQZHfF",
        "colab": {
          "base_uri": "https://localhost:8080/"
        },
        "outputId": "fd78e598-4f3c-4fa2-e81d-0991b954bec3"
      },
      "execution_count": null,
      "outputs": [
        {
          "output_type": "stream",
          "name": "stdout",
          "text": [
            "            Nombre del Producto  Ingreso Total\n",
            "48                TV LED UHD 4K    142150200.0\n",
            "39                 Refrigerador    112143300.0\n",
            "25                    Iphone 15     97902200.0\n",
            "45                     Smart TV     67452100.0\n",
            "28             Lavadora de ropa     65783600.0\n",
            "29                 Lavavajillas     62054900.0\n",
            "40             Secadora de ropa     59062400.0\n",
            "49                  Tablet ABXY     47639800.0\n",
            "7                       Batería     37693900.0\n",
            "22           Guitarra eléctrica     37292200.0\n",
            "33                   Microondas     34761500.0\n",
            "13                 Celular ABXY     32651000.0\n",
            "47              Sofá reclinable     31379400.0\n",
            "11                    Cama king     31176600.0\n",
            "20                       Estufa     29879500.0\n",
            "1                       Armario     29462300.0\n",
            "8                     Bicicleta     27444600.0\n",
            "10                     Cama box     22094700.0\n",
            "43             Silla de oficina     17667300.0\n",
            "23                    Impresora     16413300.0\n",
            "32                Mesa de noche     15679600.0\n",
            "21            Guitarra acústica     14074000.0\n",
            "27                Kit de bancas     12141200.0\n",
            "31              Mesa de comedor     10531500.0\n",
            "44                       Sillón      9879200.0\n",
            "2             Asistente virtual      8058000.0\n",
            "30               Mesa de centro      7621900.0\n",
            "26                Juego de mesa      7614500.0\n",
            "46                   Smartwatch      7452400.0\n",
            "41                 Set de ollas      6307700.0\n",
            "3                   Auriculares      5043700.0\n",
            "4     Auriculares con micrófono      4730800.0\n",
            "34                      Mochila      3867200.0\n",
            "12    Carrito de control remoto      3761800.0\n",
            "35          Modelado predictivo      3172500.0\n",
            "5           Balón de baloncesto      2749800.0\n",
            "37              Olla de presión      2629300.0\n",
            "50                 Vaso térmico      2463400.0\n",
            "15                   Cubertería      2402300.0\n",
            "38                    Pandereta      2238900.0\n",
            "6             Balón de voleibol      2112200.0\n",
            "24    Iniciando en programación      2093100.0\n",
            "14  Ciencia de datos con Python      2063600.0\n",
            "36                  Muñeca bebé      1937300.0\n",
            "9       Bloques de construcción      1865700.0\n",
            "18      Dashboards con Power BI      1455700.0\n",
            "0             Ajedrez de madera      1430600.0\n",
            "42                 Set de vasos      1359100.0\n",
            "16              Cubo mágico 8x8       696900.0\n",
            "19               Dinosaurio Rex       688900.0\n",
            "17           Cuerda para saltar       652800.0\n"
          ]
        }
      ]
    },
    {
      "cell_type": "markdown",
      "source": [
        "TIENDA 2:"
      ],
      "metadata": {
        "id": "XUBbFQaZSDW9"
      }
    },
    {
      "cell_type": "code",
      "source": [
        "ventas_por_producto1 = tienda.groupby('Producto')['Precio'].sum().reset_index()\n",
        "ventas_por_producto1.columns = ['Nombre del Producto', 'Ingreso Total']\n",
        "ventas_por_producto1 = ventas_por_producto1.sort_values('Ingreso Total', ascending=False)\n",
        "\n",
        "print(ventas_por_producto1)"
      ],
      "metadata": {
        "id": "0Sw3sd4IZIGW",
        "colab": {
          "base_uri": "https://localhost:8080/"
        },
        "outputId": "4a08f8ec-35fe-4b64-e5d0-008fe1c54267"
      },
      "execution_count": null,
      "outputs": [
        {
          "output_type": "stream",
          "name": "stdout",
          "text": [
            "            Nombre del Producto  Ingreso Total\n",
            "48                TV LED UHD 4K    142150200.0\n",
            "39                 Refrigerador    112143300.0\n",
            "25                    Iphone 15     97902200.0\n",
            "45                     Smart TV     67452100.0\n",
            "28             Lavadora de ropa     65783600.0\n",
            "29                 Lavavajillas     62054900.0\n",
            "40             Secadora de ropa     59062400.0\n",
            "49                  Tablet ABXY     47639800.0\n",
            "7                       Batería     37693900.0\n",
            "22           Guitarra eléctrica     37292200.0\n",
            "33                   Microondas     34761500.0\n",
            "13                 Celular ABXY     32651000.0\n",
            "47              Sofá reclinable     31379400.0\n",
            "11                    Cama king     31176600.0\n",
            "20                       Estufa     29879500.0\n",
            "1                       Armario     29462300.0\n",
            "8                     Bicicleta     27444600.0\n",
            "10                     Cama box     22094700.0\n",
            "43             Silla de oficina     17667300.0\n",
            "23                    Impresora     16413300.0\n",
            "32                Mesa de noche     15679600.0\n",
            "21            Guitarra acústica     14074000.0\n",
            "27                Kit de bancas     12141200.0\n",
            "31              Mesa de comedor     10531500.0\n",
            "44                       Sillón      9879200.0\n",
            "2             Asistente virtual      8058000.0\n",
            "30               Mesa de centro      7621900.0\n",
            "26                Juego de mesa      7614500.0\n",
            "46                   Smartwatch      7452400.0\n",
            "41                 Set de ollas      6307700.0\n",
            "3                   Auriculares      5043700.0\n",
            "4     Auriculares con micrófono      4730800.0\n",
            "34                      Mochila      3867200.0\n",
            "12    Carrito de control remoto      3761800.0\n",
            "35          Modelado predictivo      3172500.0\n",
            "5           Balón de baloncesto      2749800.0\n",
            "37              Olla de presión      2629300.0\n",
            "50                 Vaso térmico      2463400.0\n",
            "15                   Cubertería      2402300.0\n",
            "38                    Pandereta      2238900.0\n",
            "6             Balón de voleibol      2112200.0\n",
            "24    Iniciando en programación      2093100.0\n",
            "14  Ciencia de datos con Python      2063600.0\n",
            "36                  Muñeca bebé      1937300.0\n",
            "9       Bloques de construcción      1865700.0\n",
            "18      Dashboards con Power BI      1455700.0\n",
            "0             Ajedrez de madera      1430600.0\n",
            "42                 Set de vasos      1359100.0\n",
            "16              Cubo mágico 8x8       696900.0\n",
            "19               Dinosaurio Rex       688900.0\n",
            "17           Cuerda para saltar       652800.0\n"
          ]
        }
      ]
    },
    {
      "cell_type": "markdown",
      "source": [
        "TIENDA 3:"
      ],
      "metadata": {
        "id": "ofy4aKP4WEz6"
      }
    },
    {
      "cell_type": "code",
      "source": [
        "ventas_por_producto3 = tienda3['Producto'].value_counts().reset_index()\n",
        "ventas_por_producto3.columns = ['Nombre del Producto', 'Cantidad Vendida']\n",
        "print(ventas_por_producto3)"
      ],
      "metadata": {
        "colab": {
          "base_uri": "https://localhost:8080/"
        },
        "id": "j26Apd-NSCQ-",
        "outputId": "9cb593de-9b94-4ac7-d029-2625398dd2bf"
      },
      "execution_count": null,
      "outputs": [
        {
          "output_type": "stream",
          "name": "stdout",
          "text": [
            "            Nombre del Producto  Cantidad Vendida\n",
            "0                 Kit de bancas                57\n",
            "1               Mesa de comedor                56\n",
            "2                     Cama king                56\n",
            "3                  Set de ollas                55\n",
            "4                 Mesa de noche                55\n",
            "5                      Smart TV                54\n",
            "6                        Estufa                53\n",
            "7            Cuerda para saltar                53\n",
            "8           Modelado predictivo                53\n",
            "9     Carrito de control remoto                52\n",
            "10                 Lavavajillas                52\n",
            "11                    Bicicleta                52\n",
            "12                Juego de mesa                52\n",
            "13                    Pandereta                51\n",
            "14                    Impresora                50\n",
            "15                 Refrigerador                50\n",
            "16          Balón de baloncesto                50\n",
            "17                      Armario                49\n",
            "18            Balón de voleibol                48\n",
            "19                  Tablet ABXY                48\n",
            "20                       Sillón                47\n",
            "21            Guitarra acústica                47\n",
            "22              Olla de presión                47\n",
            "23            Ajedrez de madera                47\n",
            "24  Ciencia de datos con Python                46\n",
            "25                    Iphone 15                46\n",
            "26               Dinosaurio Rex                46\n",
            "27             Silla de oficina                46\n",
            "28                   Smartwatch                46\n",
            "29                     Cama box                46\n",
            "30    Iniciando en programación                46\n",
            "31             Secadora de ropa                45\n",
            "32              Sofá reclinable                45\n",
            "33                 Celular ABXY                44\n",
            "34              Cubo mágico 8x8                44\n",
            "35                  Auriculares                43\n",
            "36                TV LED UHD 4K                42\n",
            "37               Mesa de centro                42\n",
            "38             Lavadora de ropa                42\n",
            "39                      Batería                41\n",
            "40      Dashboards con Power BI                40\n",
            "41                   Cubertería                39\n",
            "42                  Muñeca bebé                39\n",
            "43    Auriculares con micrófono                39\n",
            "44            Asistente virtual                39\n",
            "45                 Vaso térmico                38\n",
            "46           Guitarra eléctrica                38\n",
            "47                 Set de vasos                36\n",
            "48                      Mochila                36\n",
            "49                   Microondas                36\n",
            "50      Bloques de construcción                35\n"
          ]
        }
      ]
    },
    {
      "cell_type": "markdown",
      "source": [
        "TIENDA 4:"
      ],
      "metadata": {
        "id": "sivPpAcnWRL3"
      }
    },
    {
      "cell_type": "code",
      "source": [
        "ventas_por_producto4 = tienda4['Producto'].value_counts().reset_index()\n",
        "ventas_por_producto4.columns = ['Nombre del Producto', 'Cantidad Vendida']\n",
        "print(ventas_por_producto4)"
      ],
      "metadata": {
        "colab": {
          "base_uri": "https://localhost:8080/"
        },
        "collapsed": true,
        "id": "oet_P53LSBlW",
        "outputId": "6c193a03-1161-419b-d71f-5ffad41557b0"
      },
      "execution_count": null,
      "outputs": [
        {
          "output_type": "stream",
          "name": "stdout",
          "text": [
            "            Nombre del Producto  Cantidad Vendida\n",
            "0                      Cama box                62\n",
            "1                    Cubertería                59\n",
            "2       Dashboards con Power BI                56\n",
            "3                     Cama king                56\n",
            "4     Carrito de control remoto                55\n",
            "5               Mesa de comedor                55\n",
            "6                 Mesa de noche                55\n",
            "7                      Smart TV                54\n",
            "8       Bloques de construcción                54\n",
            "9                     Pandereta                52\n",
            "10                    Impresora                50\n",
            "11          Modelado predictivo                50\n",
            "12            Asistente virtual                50\n",
            "13                 Set de ollas                50\n",
            "14          Balón de baloncesto                50\n",
            "15                 Vaso térmico                48\n",
            "16                    Iphone 15                48\n",
            "17                  Muñeca bebé                48\n",
            "18                      Batería                48\n",
            "19            Balón de voleibol                48\n",
            "20                Juego de mesa                48\n",
            "21                   Microondas                48\n",
            "22                       Estufa                47\n",
            "23              Cubo mágico 8x8                47\n",
            "24              Sofá reclinable                47\n",
            "25               Dinosaurio Rex                47\n",
            "26              Olla de presión                46\n",
            "27                 Set de vasos                46\n",
            "28                  Tablet ABXY                45\n",
            "29                       Sillón                45\n",
            "30                    Bicicleta                45\n",
            "31               Mesa de centro                44\n",
            "32                  Auriculares                44\n",
            "33                 Lavavajillas                43\n",
            "34           Cuerda para saltar                43\n",
            "35    Iniciando en programación                43\n",
            "36                      Mochila                43\n",
            "37    Auriculares con micrófono                42\n",
            "38                Kit de bancas                42\n",
            "39                TV LED UHD 4K                40\n",
            "40             Secadora de ropa                40\n",
            "41             Silla de oficina                40\n",
            "42                 Celular ABXY                39\n",
            "43            Ajedrez de madera                39\n",
            "44                   Smartwatch                39\n",
            "45             Lavadora de ropa                38\n",
            "46                 Refrigerador                38\n",
            "47  Ciencia de datos con Python                38\n",
            "48            Guitarra acústica                37\n",
            "49                      Armario                34\n",
            "50           Guitarra eléctrica                33\n"
          ]
        }
      ]
    },
    {
      "cell_type": "markdown",
      "source": [
        "# 5. Envío promedio por tienda"
      ],
      "metadata": {
        "id": "Fl0cGi3bZKqU"
      }
    },
    {
      "cell_type": "code",
      "source": [
        "costo_promedio_envio1 = tienda['Costo de envío'].mean()\n",
        "print(f'Costo de envío promedio Tienda 1: ${costo_promedio_envio1:.2f}')\n",
        "\n",
        "costo_promedio_envio2 = tienda2['Costo de envío'].mean()\n",
        "print(f'Costo de envío promedio Tienda 2: ${costo_promedio_envio2:.2f}')\n",
        "\n",
        "costo_promedio_envio3 = tienda3['Costo de envío'].mean()\n",
        "print(f'Costo de envío promedio Tienda 3: ${costo_promedio_envio3:.2f}')\n",
        "\n",
        "costo_promedio_envio4 = tienda4['Costo de envío'].mean()\n",
        "print(f'Costo de envío promedio Tienda 4: ${costo_promedio_envio4:.2f}')"
      ],
      "metadata": {
        "id": "S2JeaCykZNy9",
        "colab": {
          "base_uri": "https://localhost:8080/"
        },
        "outputId": "5666e71d-2636-4e82-ccf4-9ea115207c71"
      },
      "execution_count": null,
      "outputs": [
        {
          "output_type": "stream",
          "name": "stdout",
          "text": [
            "Costo de envío promedio Tienda 1: $26018.61\n",
            "Costo de envío promedio Tienda 2: $25216.24\n",
            "Costo de envío promedio Tienda 3: $24805.68\n",
            "Costo de envío promedio Tienda 4: $23459.46\n"
          ]
        }
      ]
    },
    {
      "cell_type": "markdown",
      "source": [
        "# VISUALIZACIÓN"
      ],
      "metadata": {
        "id": "e6B7ZaXW9_Oc"
      }
    },
    {
      "cell_type": "markdown",
      "source": [
        "## GRAFICA TIENDA Vs FACTURACIÓN"
      ],
      "metadata": {
        "id": "A6JNWjWq-h0p"
      }
    },
    {
      "cell_type": "code",
      "source": [
        "import matplotlib.pyplot as plt\n",
        "# Creamos la lista de facturación\n",
        "facturacion = [facturacion_tienda, facturacion_tienda2, facturacion_tienda3, facturacion_tienda4]\n",
        "\n",
        "# Mostramos la facturación con print\n",
        "print('La facturación de la tienda 1 es: $%.2f, \\n de la tienda 2 es: %.2f, \\n de la tienda 3 es: %.2f y \\n Tienda 4 es: %.2f'\n",
        "      %(facturacion_tienda, facturacion_tienda2, facturacion_tienda3, facturacion_tienda4))\n",
        "\n",
        "# Etiquetas para cada barra\n",
        "tiendas = ['Tienda 1', 'Tienda 2', 'Tienda 3', 'Tienda 4']\n",
        "\n",
        "# Crear el gráfico de barras\n",
        "plt.figure(figsize=(8,5))\n",
        "plt.bar(tiendas, facturacion, color='skyblue')\n",
        "plt.title('Facturación por Tienda')\n",
        "plt.xlabel('Tiendas')\n",
        "plt.ylabel('Facturación ($)')\n",
        "plt.grid(axis='y', linestyle='--', alpha=0.7)\n",
        "plt.tight_layout()\n",
        "plt.show()"
      ],
      "metadata": {
        "colab": {
          "base_uri": "https://localhost:8080/",
          "height": 580
        },
        "id": "CE_HrIsl-HT9",
        "outputId": "71941e3c-21ac-43df-d65e-378d9ed0857d"
      },
      "execution_count": null,
      "outputs": [
        {
          "output_type": "stream",
          "name": "stdout",
          "text": [
            "La facturación de la tienda 1 es: $1150880400.00, \n",
            " de la tienda 2 es: 1116343500.00, \n",
            " de la tienda 3 es: 1098019600.00 y \n",
            " Tienda 4 es: 1038375700.00\n"
          ]
        },
        {
          "output_type": "display_data",
          "data": {
            "text/plain": [
              "<Figure size 800x500 with 1 Axes>"
            ],
            "image/png": "[encoded data removed]"
          },
          "metadata": {}
        }
      ]
    },
    {
      "cell_type": "markdown",
      "source": [
        "## OPINIONES DE CLIENTES"
      ],
      "metadata": {
        "id": "Z9gHP0-vABoe"
      }
    },
    {
      "cell_type": "code",
      "source": [
        "# Datos para el gráfico\n",
        "tiendas = ['Tienda 1', 'Tienda 2', 'Tienda 3', 'Tienda 4']\n",
        "calificaciones = [promedio_calificacion1, promedio_calificacion2, promedio_calificacion3, promedio_calificacion4]\n",
        "\n",
        "# Crear gráfico de barras horizontales\n",
        "plt.figure(figsize=(8,5))\n",
        "bars = plt.barh(tiendas, calificaciones, color='mediumseagreen')\n",
        "plt.title('Calificación Promedio por Tienda')\n",
        "plt.xlabel('Calificación Promedio (0 a 5)')\n",
        "plt.xlim(0, 5)\n",
        "plt.grid(axis='x', linestyle='--', alpha=0.5)\n",
        "\n",
        "# Agregar los valores a la derecha de cada barra\n",
        "for bar in bars:\n",
        "    width = bar.get_width()\n",
        "    plt.text(width + 0.05, bar.get_y() + bar.get_height()/2, f'{width:.2f}', va='center')\n",
        "\n",
        "plt.tight_layout()\n",
        "plt.show()"
      ],
      "metadata": {
        "colab": {
          "base_uri": "https://localhost:8080/",
          "height": 507
        },
        "id": "4U93y9Uj-sth",
        "outputId": "1c45b485-6382-4175-c930-20c0a6cb1c3b"
      },
      "execution_count": null,
      "outputs": [
        {
          "output_type": "display_data",
          "data": {
            "text/plain": [
              "<Figure size 800x500 with 1 Axes>"
            ],
            "image/png": "[encoded data removed]"
          },
          "metadata": {}
        }
      ]
    },
    {
      "cell_type": "markdown",
      "source": [
        "## COSTES DE ENVIO POR TIENDA"
      ],
      "metadata": {
        "id": "R-wrSQ4lDBlu"
      }
    },
    {
      "cell_type": "code",
      "source": [
        "# Armar lista de tuplas (tienda, costo)\n",
        "costos_envio = [\n",
        "    ('Tienda 1', costo_promedio_envio1),\n",
        "    ('Tienda 2', costo_promedio_envio2),\n",
        "    ('Tienda 3', costo_promedio_envio3),\n",
        "    ('Tienda 4', costo_promedio_envio4)\n",
        "]\n",
        "\n",
        "# Ordenar de menor a mayor\n",
        "costos_ordenados = sorted(costos_envio, key=lambda x: x[1])\n",
        "\n",
        "# Separar etiquetas y valores\n",
        "tiendas_ordenadas, costos_ordenados_valores = zip(*costos_ordenados)\n",
        "\n",
        "# Crear gráfico de barras horizontales\n",
        "plt.figure(figsize=(8,5))\n",
        "bars = plt.barh(tiendas_ordenadas, costos_ordenados_valores, color='lightcoral')\n",
        "plt.title('Costo Promedio de Envío por Tienda (ordenado)')\n",
        "plt.xlabel('Costo Promedio de Envío ($)')\n",
        "plt.grid(axis='x', linestyle='--', alpha=0.5)\n",
        "\n",
        "# Mostrar valores al lado de las barras\n",
        "for bar in bars:\n",
        "    width = bar.get_width()\n",
        "    plt.text(width + 0.05, bar.get_y() + bar.get_height()/2, f'${width:.2f}', va='center')\n",
        "\n",
        "plt.tight_layout()\n",
        "plt.show()"
      ],
      "metadata": {
        "colab": {
          "base_uri": "https://localhost:8080/",
          "height": 507
        },
        "id": "oAsk0xbGDQJ5",
        "outputId": "d0526334-ae63-449e-f62b-43d0e176d4c1"
      },
      "execution_count": null,
      "outputs": [
        {
          "output_type": "display_data",
          "data": {
            "text/plain": [
              "<Figure size 800x500 with 1 Axes>"
            ],
            "image/png": "[encoded data removed]"
          },
          "metadata": {}
        }
      ]
    },
    {
      "cell_type": "markdown",
      "source": [
        "# INFORME FINAL"
      ],
      "metadata": {
        "id": "YirmsvDSEmDh"
      }
    },
    {
      "cell_type": "markdown",
      "source": [
        "Aunque la Tienda 4 tiene el menor costo de envío, es también la que:\n",
        "\n",
        "- Menos factura (menos ventas, menor visibilidad)\n",
        "\n",
        "- No se destaca en calificación de clientes\n",
        "\n",
        "El ahorro logístico no compensa la pérdida de alcance y reputación frente a otras tiendas.\n",
        "Por lo tanto, se recomienda descartar Tienda 4."
      ],
      "metadata": {
        "id": "70DMY0MTItKt"
      }
    }
  ]
}